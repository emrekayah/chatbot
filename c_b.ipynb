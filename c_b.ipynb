{
 "cells": [
  {
   "cell_type": "code",
   "execution_count": 1,
   "id": "cbd09224",
   "metadata": {
    "scrolled": false
   },
   "outputs": [
    {
     "name": "stdout",
     "output_type": "stream",
     "text": [
      "WARNING:tensorflow:From /Users/emrekaya/tensorflow-test/env/lib/python3.8/site-packages/tensorflow/python/compat/v2_compat.py:107: disable_resource_variables (from tensorflow.python.ops.variable_scope) is deprecated and will be removed in a future version.\n",
      "Instructions for updating:\n",
      "non-resource variables are not supported in the long term\n"
     ]
    }
   ],
   "source": [
    "import nltk\n",
    "from nltk.stem.lancaster import LancasterStemmer\n",
    "stemmer = LancasterStemmer ( ) \n",
    "\n",
    "import numpy \n",
    "import tflearn \n",
    "import tensorflow\n",
    "import random\n",
    "\n",
    "import json\n",
    "with open('/Users/emrekaya/Desktop/intents_AKUT.json') as file:\n",
    "    data = json. load(file)\n"
   ]
  },
  {
   "cell_type": "code",
   "execution_count": 2,
   "id": "4541ba6c",
   "metadata": {},
   "outputs": [],
   "source": [
    "words = []\n",
    "labels = []\n",
    "docs_x = []\n",
    "docs_y = []"
   ]
  },
  {
   "cell_type": "code",
   "execution_count": 3,
   "id": "df07585d",
   "metadata": {
    "scrolled": false
   },
   "outputs": [],
   "source": [
    "for intent in data['intents']:\n",
    "    for pattern in intent ['patterns']:\n",
    "        wrds = nltk.word_tokenize(pattern)\n",
    "        words.extend(wrds)\n",
    "        docs_x.append (wrds)\n",
    "        docs_y.append(intent[\"tag\"]) \n",
    "    if intent[ 'tag'] not in labels:\n",
    "        labels.append(intent ['tag'])"
   ]
  },
  {
   "cell_type": "code",
   "execution_count": 4,
   "id": "1b6c9ead",
   "metadata": {},
   "outputs": [],
   "source": [
    "words = [stemmer.stem(w.lower ( )) for w in words if w != \"?\"]\n",
    "words = sorted(list(set(words)))\n",
    "labels = sorted (labels)"
   ]
  },
  {
   "cell_type": "code",
   "execution_count": 5,
   "id": "aa46ef4f",
   "metadata": {},
   "outputs": [],
   "source": [
    "training = []\n",
    "output = []\n",
    "out_empty = [0 for _ in range(len(labels))]\n",
    "\n",
    "for x, doc in enumerate (docs_x):\n",
    "    bag = []\n",
    "    \n",
    "    wrds = [stemmer.stem(w.lower()) for w in doc]\n",
    "    \n",
    "    for w in words:\n",
    "        if w in wrds:\n",
    "            bag.append(1)\n",
    "        else:\n",
    "            bag.append (0)\n",
    "    output_row = out_empty[:]\n",
    "    output_row[labels.index(docs_y[x])] = 1\n",
    "    \n",
    "    training.append (bag)\n",
    "    output.append (output_row)"
   ]
  },
  {
   "cell_type": "code",
   "execution_count": 6,
   "id": "afa27010",
   "metadata": {},
   "outputs": [],
   "source": [
    "training = numpy.array(training)\n",
    "output = numpy.array (output)"
   ]
  },
  {
   "cell_type": "code",
   "execution_count": 7,
   "id": "321c1982",
   "metadata": {
    "scrolled": false
   },
   "outputs": [
    {
     "name": "stdout",
     "output_type": "stream",
     "text": [
      "WARNING:tensorflow:From /Users/emrekaya/tensorflow-test/env/lib/python3.8/site-packages/tflearn/initializations.py:164: calling TruncatedNormal.__init__ (from tensorflow.python.ops.init_ops) with dtype is deprecated and will be removed in a future version.\n",
      "Instructions for updating:\n",
      "Call initializer instance with the dtype argument instead of passing it to the constructor\n",
      "Metal device set to: Apple M1 Max\n"
     ]
    },
    {
     "name": "stderr",
     "output_type": "stream",
     "text": [
      "2022-11-19 20:34:58.260690: I tensorflow/core/common_runtime/pluggable_device/pluggable_device_factory.cc:305] Could not identify NUMA node of platform GPU ID 0, defaulting to 0. Your kernel may not have been built with NUMA support.\n",
      "2022-11-19 20:34:58.260844: I tensorflow/core/common_runtime/pluggable_device/pluggable_device_factory.cc:271] Created TensorFlow device (/job:localhost/replica:0/task:0/device:GPU:0 with 0 MB memory) -> physical PluggableDevice (device: 0, name: METAL, pci bus id: <undefined>)\n",
      "2022-11-19 20:34:58.344789: I tensorflow/compiler/mlir/mlir_graph_optimization_pass.cc:354] MLIR V1 optimization pass is not enabled\n",
      "2022-11-19 20:34:58.346561: W tensorflow/core/platform/profile_utils/cpu_utils.cc:128] Failed to get CPU frequency: 0 Hz\n",
      "2022-11-19 20:34:58.346707: I tensorflow/core/grappler/optimizers/custom_graph_optimizer_registry.cc:113] Plugin optimizer for device_type GPU is enabled.\n",
      "2022-11-19 20:34:58.350303: I tensorflow/core/grappler/optimizers/custom_graph_optimizer_registry.cc:113] Plugin optimizer for device_type GPU is enabled.\n",
      "2022-11-19 20:34:58.360327: I tensorflow/core/common_runtime/pluggable_device/pluggable_device_factory.cc:305] Could not identify NUMA node of platform GPU ID 0, defaulting to 0. Your kernel may not have been built with NUMA support.\n",
      "2022-11-19 20:34:58.360343: I tensorflow/core/common_runtime/pluggable_device/pluggable_device_factory.cc:271] Created TensorFlow device (/job:localhost/replica:0/task:0/device:GPU:0 with 0 MB memory) -> physical PluggableDevice (device: 0, name: METAL, pci bus id: <undefined>)\n"
     ]
    }
   ],
   "source": [
    "\n",
    "tensorflow.compat.v1.reset_default_graph()\n",
    "net = tflearn.input_data(shape= [None, len(training[0])])\n",
    "net = tflearn.fully_connected(net, 8)\n",
    "net = tflearn.fully_connected (net, 8)\n",
    "net = tflearn.fully_connected(net, len(output[0]), activation=\"softmax\")\n",
    "net = tflearn.regression (net)\n",
    "model = tflearn.DNN(net)"
   ]
  },
  {
   "cell_type": "code",
   "execution_count": 8,
   "id": "b0174456",
   "metadata": {
    "scrolled": false
   },
   "outputs": [
    {
     "name": "stdout",
     "output_type": "stream",
     "text": [
      "Training Step: 4499  | total loss: \u001b[1m\u001b[32m0.00378\u001b[0m\u001b[0m | time: 0.042s\n",
      "| Adam | epoch: 1500 | loss: 0.00378 - acc: 1.0000 -- iter: 16/20\n",
      "Training Step: 4500  | total loss: \u001b[1m\u001b[32m0.00353\u001b[0m\u001b[0m | time: 0.062s\n",
      "| Adam | epoch: 1500 | loss: 0.00353 - acc: 1.0000 -- iter: 20/20\n",
      "--\n",
      "INFO:tensorflow:/Users/emrekaya/tensorflow-test/model.tflearn is not in all_model_checkpoint_paths. Manually adding it.\n",
      "INFO:tensorflow:/Users/emrekaya/tensorflow-test/model.tflearn.meta\n",
      "INFO:tensorflow:100\n",
      "INFO:tensorflow:/Users/emrekaya/tensorflow-test/model.tflearn.index\n",
      "INFO:tensorflow:100\n",
      "INFO:tensorflow:/Users/emrekaya/tensorflow-test/model.tflearn.data-00000-of-00001\n",
      "INFO:tensorflow:100\n"
     ]
    },
    {
     "name": "stderr",
     "output_type": "stream",
     "text": [
      "2022-11-19 20:36:35.373572: I tensorflow/core/grappler/optimizers/custom_graph_optimizer_registry.cc:113] Plugin optimizer for device_type GPU is enabled.\n"
     ]
    }
   ],
   "source": [
    "model.fit(training, output, n_epoch=1500, batch_size=8, show_metric=True)\n",
    "model.save (\"model.tflearn\")\n"
   ]
  },
  {
   "cell_type": "code",
   "execution_count": null,
   "id": "e3ecfbff",
   "metadata": {
    "scrolled": false
   },
   "outputs": [
    {
     "name": "stdout",
     "output_type": "stream",
     "text": [
      "Start talking with your bot (type quit to stop)!\n",
      "You: üye olabilir miyim\n"
     ]
    },
    {
     "name": "stderr",
     "output_type": "stream",
     "text": [
      "2022-11-19 20:36:45.688590: I tensorflow/core/grappler/optimizers/custom_graph_optimizer_registry.cc:113] Plugin optimizer for device_type GPU is enabled.\n",
      "2022-11-19 20:36:45.699854: I tensorflow/core/grappler/optimizers/custom_graph_optimizer_registry.cc:113] Plugin optimizer for device_type GPU is enabled.\n"
     ]
    },
    {
     "name": "stdout",
     "output_type": "stream",
     "text": [
      "Memnunum\n",
      "You: gönüllü olmak isitiyorum\n",
      "Yardım etmekten mutluluk duyarım!\n",
      "You: nasıl akut üyesei olurum\n",
      "Memnunum\n"
     ]
    }
   ],
   "source": [
    "def bag_of_words(s, words):\n",
    "    bag = [0 for _ in range(len(words))]\n",
    "\n",
    "    s_words = nltk.word_tokenize(s)\n",
    "    s_words = [stemmer.stem(word.lower()) for word in s_words]\n",
    "\n",
    "    for se in s_words:\n",
    "        for i, w in enumerate(words):\n",
    "            if w == se: bag[i] = 1\n",
    "\n",
    "    return numpy.array(bag)\n",
    "    \n",
    "def chat ( ): \n",
    "    print (\"Start talking with your bot (type quit to stop)!\")\n",
    "    while True:\n",
    "        inp = input ( \"You: \")\n",
    "        if inp.lower () == \"quit\":\n",
    "            break\n",
    "        results = model.predict([bag_of_words(inp, words) ])\n",
    "        results_index = numpy.argmax(results)\n",
    "        tag = labels[results_index] \n",
    "    \n",
    "        for tg in data[\"intents\"]:\n",
    "            if tg['tag'] == tag:\n",
    "                responses = tg['responses']\n",
    "        print(random.choice (responses))\n",
    "chat()"
   ]
  },
  {
   "cell_type": "code",
   "execution_count": null,
   "id": "ecd2f048",
   "metadata": {},
   "outputs": [],
   "source": []
  }
 ],
 "metadata": {
  "kernelspec": {
   "display_name": "Python 3 (ipykernel)",
   "language": "python",
   "name": "python3"
  },
  "language_info": {
   "codemirror_mode": {
    "name": "ipython",
    "version": 3
   },
   "file_extension": ".py",
   "mimetype": "text/x-python",
   "name": "python",
   "nbconvert_exporter": "python",
   "pygments_lexer": "ipython3",
   "version": "3.8.13"
  }
 },
 "nbformat": 4,
 "nbformat_minor": 5
}
